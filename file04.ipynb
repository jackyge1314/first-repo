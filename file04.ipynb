{
 "cells": [
  {
   "cell_type": "code",
   "execution_count": 2,
   "id": "4aab2bf4",
   "metadata": {},
   "outputs": [
    {
     "name": "stdout",
     "output_type": "stream",
     "text": [
      "段落数量: 2\n"
     ]
    }
   ],
   "source": [
    "from docx import Document\n",
    "\n",
    "doc = Document(\"example/test.doc\")\n",
    "print(f\"段落数量: {len(doc.paragraphs)}\")  # 检查是否有段落"
   ]
  },
  {
   "cell_type": "code",
   "execution_count": 1,
   "id": "aa94da38",
   "metadata": {},
   "outputs": [
    {
     "name": "stdout",
     "output_type": "stream",
     "text": [
      "True\n"
     ]
    }
   ],
   "source": [
    "import os\n",
    "print(os.path.exists(\"example/test.doc\"))  # 应返回 True"
   ]
  },
  {
   "cell_type": "code",
   "execution_count": 3,
   "id": "d02ea14e",
   "metadata": {},
   "outputs": [
    {
     "name": "stdout",
     "output_type": "stream",
     "text": [
      "\n",
      "\n"
     ]
    }
   ],
   "source": [
    "from docx import Document\n",
    "import zipfile\n",
    "\n",
    "try:\n",
    "    doc = Document(\"example/test.doc\")  # 即使扩展名是.doc也尝试\n",
    "    print(\"\\n\".join(p.text for p in doc.paragraphs))\n",
    "except zipfile.BadZipFile:\n",
    "    print(\"文件不是有效的.docx格式\")"
   ]
  },
  {
   "cell_type": "code",
   "execution_count": 4,
   "id": "06552277",
   "metadata": {},
   "outputs": [
    {
     "name": "stdout",
     "output_type": "stream",
     "text": [
      "0000000   P   K 003 004  \\n  \\0  \\0  \\0  \\0  \\0 207   N 342   @  \\0  \\0\n",
      "0000020  \\0  \\0  \\0  \\0  \\0  \\0  \\0  \\0  \\0  \\0  \\t  \\0  \\0  \\0   d   o\n",
      "0000040   c   P   r   o   p   s   /   P   K 003 004 024  \\0  \\0  \\0  \\b\n",
      "0000060  \\0 207   N 342   @ 316 325 222 021   p 001  \\0  \\0 216 002  \\0\n",
      "0000100  \\0 020  \\0  \\0  \\0   d   o   c   P   r   o   p   s   /   a   p\n",
      "0000120   p   .   x   m   l 235   R 313   N 303   0 020 274   # 361 017\n",
      "0000140   Q 356 251 035 267   ) 017   m 215   J 200 023 217   J  \\r 364\n",
      "0000160 210   ,   g 323   X   $ 266   e 033   D 377 036 207   B 033 256\n",
      "0000200 334   v   f 354 321 354 003 256   > 373   . 371   @ 347 225 321\n",
      "0000220 213   4 237 320   4   A   -   M 255 364   v 221   >   W   w 331\n",
      "0000240   y 232 370       t   -   : 243   q 221 356 320 247   W 374 364\n",
      "0000260 004   V 316   X   t   A 241   O 242 205 366 213 264  \\r 301   ^\n",
      "0000300 022 342   e 213 275 360 223   ( 353 250   4 306 365   \"   D 350\n",
      "0000320 266 304   4 215 222   x   c 344   { 217   : 020   F 351 234 340\n",
      "0000340   g   @   ]   c 235 331 203   a 272   w 274 374  \\b 377   5 255\n",
      "0000360 215 034 362 371 227   j   g   c   ` 016 025 366 266 023 001 371\n",
      "0000400 343 020 247 003   r     240   4 275 025   z 307 037 224   t 306\n",
      "0000420 233   &  \\0 371 245   `   % 266 350   y 016   d   _ 300 306 270\n",
      "0000440 332   s   V   D   f   _   B 331  \\n   '   d 210 003 344 354   b\n",
      "0000460 026 277 036   1 334   + 035 177   O 201 354 213 350 346 304 326\n"
     ]
    }
   ],
   "source": [
    "!od -c example/test.doc | head -20  # 查看文件二进制内容"
   ]
  },
  {
   "cell_type": "code",
   "execution_count": 5,
   "id": "f5de8dcb",
   "metadata": {},
   "outputs": [
    {
     "name": "stdout",
     "output_type": "stream",
     "text": [
      "表格内容: 姓名： \n",
      "表格内容: \n",
      "表格内容: 脑电图号：\n",
      "表格内容: 634\n",
      "表格内容: 性别： \n",
      "表格内容: 女\n",
      "表格内容: 检查日期：\n",
      "表格内容: 2025年3月26日\n",
      "表格内容: 年龄：\n",
      "表格内容: 23\n",
      "表格内容: 床    号：\n",
      "表格内容: 23\n",
      "表格内容: 科别：\n",
      "表格内容: \n",
      "表格内容: 门诊/住院号：\n",
      "表格内容: 10632\n",
      "表格内容: \n",
      "表格内容: 病人情况/记录条件: \n",
      "类        型：常规                配合情况：        意识状态：清醒\n",
      "电极安放标准：国际10-20系统      左 右 利：        用    药：/\n",
      "检查结果：\n",
      "背景活动：清醒安静闭目时双侧枕区以Hz、uv 波及节律为主；左右基本对称，调节、调幅。\n",
      "波：，低波幅14-25Hzβ波。\n",
      "波：，低中波幅4-7Hzθ波。\n",
      "对称性：双侧。\n",
      "异常波形：。\n",
      "诱发实验：\n",
      "睁闭眼：α波抑制完全。\n",
      "过度换气：。\n",
      "结论：     \n",
      "     \n",
      "\n",
      "报告医师：\n",
      "报告日期：2025年3月26日   \n"
     ]
    }
   ],
   "source": [
    "# 检查表格内容\n",
    "from docx import Document\n",
    "\n",
    "doc = Document(\"example/test.doc\")\n",
    "for table in doc.tables:\n",
    "    for row in table.rows:\n",
    "        for cell in row.cells:\n",
    "            print(\"表格内容:\", cell.text)"
   ]
  },
  {
   "cell_type": "code",
   "execution_count": 19,
   "id": "0bb546c1",
   "metadata": {},
   "outputs": [
    {
     "name": "stdout",
     "output_type": "stream",
     "text": [
      "页眉:\n",
      "\n",
      "页脚:\n",
      "（仅供临床参考，不作为诊断依据）\n"
     ]
    }
   ],
   "source": [
    "# 检查页眉页脚\n",
    "for section in doc.sections:\n",
    "    print(\"页眉:\")\n",
    "    for para in section.header.paragraphs:\n",
    "        print(para.text)\n",
    "    \n",
    "    print(\"页脚:\")\n",
    "    for para in section.footer.paragraphs:\n",
    "        print(para.text)"
   ]
  },
  {
   "cell_type": "code",
   "execution_count": 18,
   "id": "02c558a9",
   "metadata": {},
   "outputs": [
    {
     "name": "stdout",
     "output_type": "stream",
     "text": [
      "文本框内容: []\n"
     ]
    }
   ],
   "source": [
    "from docx import Document\n",
    "from docx.oxml import OxmlElement\n",
    "\n",
    "def extract_textboxes(doc):\n",
    "    \"\"\"提取文档中所有文本框内容（兼容新版python-docx）\"\"\"\n",
    "    textbox_content = []\n",
    "    \n",
    "    # 遍历所有段落，检查是否包含文本框\n",
    "    for paragraph in doc.paragraphs:\n",
    "        for run in paragraph.runs:\n",
    "            if run._element.xpath('.//w:txbxContent'):\n",
    "                # 提取文本框内的所有段落\n",
    "                textbox = run._element.xpath('.//w:txbxContent')[0]\n",
    "                for p in textbox.xpath('.//w:p'):\n",
    "                    text = ' '.join(t.text for t in p.xpath('.//w:t'))\n",
    "                    if text:\n",
    "                        textbox_content.append(text)\n",
    "    \n",
    "    return textbox_content\n",
    "\n",
    "# 使用示例\n",
    "doc = Document(\"example/test.doc\")\n",
    "textboxes = extract_textboxes(doc)\n",
    "print(\"文本框内容:\", textboxes)"
   ]
  },
  {
   "cell_type": "code",
   "execution_count": 23,
   "id": "1cd36c49",
   "metadata": {},
   "outputs": [
    {
     "name": "stdout",
     "output_type": "stream",
     "text": [
      "提取结果：\n",
      "姓名：     \n",
      "姓名：     \n",
      "脑电图号：\n",
      "41913\n",
      "性别： \n",
      "女\n",
      "女\n",
      "检查日期：\n",
      "2025年3月26日\n",
      "年龄：\n",
      "26\n",
      "26\n",
      "床    号：\n",
      "/\n",
      "科别：\n",
      "门诊号/住院号：\n",
      "159135\n",
      "病人情况/记录条件: \n",
      "类        型：常规                配合情况：        意识状态：清醒\n",
      "电极安放标准：国际10-20系统      左 右 利：        用    药：/\n",
      "检查结果：\t\n",
      "背景活动：清醒安静闭目时双侧枕区以 Hz、 uv的波及节律为主，左右基本对称，调节、调幅。\n",
      "快波：，低波幅14-25Hzβ波。\n",
      "慢波：，低中波幅4-7Hzθ波。\n",
      "对称性：双侧。\n",
      "异常波形：未见。\n",
      "诱发实验：\n",
      "睁闭眼：α波抑制完全。\n",
      "过度换气：未见异常改变。\n",
      "结论：                            \n",
      "报告医师：\n",
      "报告日期：2025年3月26日  \n"
     ]
    }
   ],
   "source": [
    "# python-docx\n",
    "from docx import Document\n",
    "from docx.table import Table\n",
    "\n",
    "def extract_all_content(file_path):\n",
    "    doc = Document(file_path)\n",
    "    content = []\n",
    "    \n",
    "    # 提取段落\n",
    "    for para in doc.paragraphs:\n",
    "        if para.text.strip():\n",
    "            content.append(para.text)\n",
    "    \n",
    "    # 提取表格内容\n",
    "    for table in doc.tables:\n",
    "        for row in table.rows:\n",
    "            for cell in row.cells:\n",
    "                if cell.text.strip():\n",
    "                    content.append(cell.text)\n",
    "    \n",
    "    return \"\\n\".join(content) if content else \"文件无文本内容\"\n",
    "\n",
    "#text = extract_all_content(\"example/test.doc\")\n",
    "text = extract_all_content(\".output/_20231205_165237/_20231205_165237.doc\")\n",
    "print(\"提取结果：\")\n",
    "print(text)"
   ]
  },
  {
   "cell_type": "code",
   "execution_count": 20,
   "id": "73e5021d",
   "metadata": {},
   "outputs": [
    {
     "name": "stdout",
     "output_type": "stream",
     "text": [
      "原始XML中的文本: 姓名：        脑电图号： 41913 性别：   女 检查 日期：   DATE  \\@ \"yyyy'年'M'月'd'日'\"  \\* MERGEFORMAT   2025年3月26日 年龄 ： 26 床    号： / 科别 ： 门诊 门诊号/住院号： 159135 病人情况/记录条件:  类        型：常规                配合情况：  合作        意识状态：清醒 电极安放标准：国际10-20系统      左 右 利：  右利        用    药：/ 检查结果 ： 背景活动：清醒安静闭目时双侧枕区以 9-10  Hz、 30-50  uv的 α 波及节律为主，左右基本对称，调节、调幅 尚可 。 快波： 少量 ，低波幅14-25Hzβ波。 慢波： 少量 ，低中波幅4-7Hzθ波。 对称性：双侧 基本对称 。 异常波形：未见。 诱发实验 ： 睁闭眼：α波抑制完全。 过度换气：未见异常改变。 结论 ： 大致正常脑电地形图                              报告医师： 报告日期：   DATE  \\@ \"yyyy'年'M'月'd'日'\"  \\* MERGEFORMAT   2025年3月26日   \n"
     ]
    }
   ],
   "source": [
    "# 直接解析.docx的 XML（终极方法）\n",
    "import zipfile\n",
    "from xml.etree.ElementTree import fromstring\n",
    "\n",
    "#with zipfile.ZipFile(\"example/test.doc\") as z:\n",
    "with zipfile.ZipFile(\".output/_20231205_165237/_20231205_165237.doc\") as z:\n",
    "    with z.open('word/document.xml') as f:\n",
    "        xml_content = f.read()\n",
    "        root = fromstring(xml_content)\n",
    "        \n",
    "        # 提取所有文本（包括隐藏内容）\n",
    "        all_text = ' '.join([elem.text for elem in root.iter() if elem.text])\n",
    "        print(\"原始XML中的文本:\", all_text)"
   ]
  },
  {
   "cell_type": "code",
   "execution_count": 2,
   "id": "734f0605",
   "metadata": {},
   "outputs": [
    {
     "name": "stdout",
     "output_type": "stream",
     "text": [
      "姓名： 脑电图号： 634 性别： 女 检查 日期： 2025年3月26日 年龄 ： 23 床 号： 23 科别 ： 精神一科 门诊/住院号： 10632 病人情况/记录条件: 类 型：常规 配合情况： 合作 意识状态：清醒 电极安放标准：国际10-20系统 左 右 利： 右利 用 药：/ 检查结果 ： 背景活动：清醒安静闭目时双侧枕区以 9-10 Hz、 50-80 uv α 波及节律为主；左右基本对称，调节、调幅 尚可 。 快 波： 少量 ，低波幅14-25Hzβ波。 慢 波： 少量 ，低中波幅4-7Hzθ波。 对称性：双侧 基本对称 。 异常波形： 未见 。 诱发实验 ： 睁闭眼：α波抑制完全。 过度换气： 未见明显异常改变 。 结论 ： 大致正常脑电地形图 报告医师： 报告日期： 2025年3月26日\n"
     ]
    }
   ],
   "source": [
    "import re\n",
    "from docx import Document\n",
    "from lxml import etree\n",
    "\n",
    "def clean_xml_text(text):\n",
    "    \"\"\"去除XML中的格式标记\"\"\"\n",
    "    # 删除日期字段标记\n",
    "    text = re.sub(r'DATE \\\\@ \"[^\"]+\" \\\\\\* MERGEFORMAT', '', text)\n",
    "    # 合并多余空格\n",
    "    text = re.sub(r'\\s+', ' ', text)\n",
    "    return text.strip()\n",
    "\n",
    "def extract_clean_xml(doc):\n",
    "    \"\"\"提取并清洗XML内容\"\"\"\n",
    "    xml_str = doc._element.xml\n",
    "    root = etree.fromstring(xml_str)\n",
    "    ns = {'w': 'http://schemas.openxmlformats.org/wordprocessingml/2006/main'}\n",
    "    texts = root.xpath('//w:t/text()', namespaces=ns)\n",
    "    return clean_xml_text(' '.join(texts))\n",
    "\n",
    "doc = Document(\"example/test.doc\")\n",
    "print(extract_clean_xml(doc))"
   ]
  },
  {
   "cell_type": "code",
   "execution_count": 16,
   "id": "9acaa803",
   "metadata": {},
   "outputs": [
    {
     "name": "stdout",
     "output_type": "stream",
     "text": [
      "---正文---\n",
      "[[[['姓名：     '], ['姓名：     '], [''], ['脑电图号：'], ['41913']], [['性别： '], ['女'], ['女'], ['检查日期：'], ['2025年3月26日']], [['年龄：'], ['26'], ['26'], ['床    号：'], ['/']], [['科别：'], ['门诊'], ['门诊'], ['门诊号/住院号：'], ['159135']]], [[['']]], [[['----media/image1.png----']], [['病人情况/记录条件: ', '类        型：常规                配合情况： 合作       意识状态：清醒', '电极安放标准：国际10-20系统      左 右 利： 右利       用    药：/', '\\t检查结果：\\t', '背景活动：清醒安静闭目时双侧枕区以9-10 Hz、30-50 uv的α波及节律为主，左右基本对称，调节、调幅尚可。', '快波：少量，低波幅14-25Hzβ波。', '慢波：少量，低中波幅4-7Hzθ波。', '对称性：双侧基本对称。', '异常波形：未见。', '诱发实验：', '睁闭眼：α波抑制完全。', '过度换气：未见异常改变。', '结论：大致正常脑电地形图                            ', '报告医师：', '报告日期：2025年3月26日  ']]], [[['']]]]\n",
      "\n",
      "---页眉---\n",
      "[[[]], [[['潍坊市精神卫生中心', '脑电地形图报告单']]], [[['']]]]\n",
      "\n",
      "---页脚---\n",
      "[[[['（仅供临床参考，不作为诊断依据）']]]]\n"
     ]
    }
   ],
   "source": [
    "from docx2python import docx2python\n",
    "\n",
    "# 提取内容（新版直接通过属性访问）\n",
    "#doc = docx2python(\"example/test.doc\")\n",
    "doc = docx2python(\".output/_20231205_165237/_20231205_165237.doc\")\n",
    "\n",
    "# 获取正文内容（新版结构）\n",
    "print(\"---正文---\")\n",
    "print(doc.body)  # 直接访问body属性\n",
    "# 获取其他部分\n",
    "print(\"\\n---页眉---\")\n",
    "print(doc.header)\n",
    "print(\"\\n---页脚---\")\n",
    "print(doc.footer)"
   ]
  },
  {
   "cell_type": "code",
   "execution_count": 2,
   "id": "092ab753",
   "metadata": {},
   "outputs": [
    {
     "name": "stdout",
     "output_type": "stream",
     "text": [
      "潍坊市精神卫生中心\n",
      "\n",
      "脑电地形图报告单\n",
      "\n",
      "\n",
      "\n",
      "姓名：     \n",
      "\n",
      "姓名：     \n",
      "\n",
      "\n",
      "\n",
      "脑电图号：\n",
      "\n",
      "41913\n",
      "\n",
      "性别： \n",
      "\n",
      "女\n",
      "\n",
      "女\n",
      "\n",
      "检查日期：\n",
      "\n",
      "2025年3月26日\n",
      "\n",
      "年龄：\n",
      "\n",
      "26\n",
      "\n",
      "26\n",
      "\n",
      "床    号：\n",
      "\n",
      "/\n",
      "\n",
      "科别：\n",
      "\n",
      "门诊\n",
      "\n",
      "门诊\n",
      "\n",
      "门诊号/住院号：\n",
      "\n",
      "159135\n",
      "\n",
      "\n",
      "\n",
      "----media/image1.png----\n",
      "\n",
      "病人情况/记录条件: \n",
      "\n",
      "类        型：常规                配合情况： 合作       意识状态：清醒\n",
      "\n",
      "电极安放标准：国际10-20系统      左 右 利： 右利       用    药：/\n",
      "\n",
      "\t检查结果：\t\n",
      "\n",
      "背景活动：清醒安静闭目时双侧枕区以9-10 Hz、30-50 uv的α波及节律为主，左右基本对称，调节、调幅尚可。\n",
      "\n",
      "快波：少量，低波幅14-25Hzβ波。\n",
      "\n",
      "慢波：少量，低中波幅4-7Hzθ波。\n",
      "\n",
      "对称性：双侧基本对称。\n",
      "\n",
      "异常波形：未见。\n",
      "\n",
      "诱发实验：\n",
      "\n",
      "睁闭眼：α波抑制完全。\n",
      "\n",
      "过度换气：未见异常改变。\n",
      "\n",
      "结论：大致正常脑电地形图                            \n",
      "\n",
      "报告医师：\n",
      "\n",
      "报告日期：2025年3月26日  \n",
      "\n",
      "\n",
      "\n",
      "（仅供临床参考，不作为诊断依据）\n"
     ]
    }
   ],
   "source": [
    "# 使用 doc.text 属性\n",
    "from docx2python import docx2python\n",
    "#text = docx2python(\"example/test.doc\").text\n",
    "text = docx2python(\".output/_20231205_165237/_20231205_165237.doc\").text\n",
    "print(text)"
   ]
  },
  {
   "cell_type": "code",
   "execution_count": 14,
   "id": "eed7565d",
   "metadata": {},
   "outputs": [
    {
     "name": "stdout",
     "output_type": "stream",
     "text": [
      "{\n",
      "  \"body\": [\n",
      "    [\n",
      "      [\n",
      "        [\n",
      "          \"姓名：     \"\n",
      "        ],\n",
      "        [\n",
      "          \"姓名：     \"\n",
      "        ],\n",
      "        [\n",
      "          \"\"\n",
      "        ],\n",
      "        [\n",
      "          \"脑电图号：\"\n",
      "        ],\n",
      "        [\n",
      "          \"41913\"\n",
      "        ]\n",
      "      ],\n",
      "      [\n",
      "        [\n",
      "          \"性别： \"\n",
      "        ],\n",
      "        [\n",
      "          \"女\"\n",
      "        ],\n",
      "        [\n",
      "          \"女\"\n",
      "        ],\n",
      "        [\n",
      "          \"检查日期：\"\n",
      "        ],\n",
      "        [\n",
      "          \"2025年3月26日\"\n",
      "        ]\n",
      "      ],\n",
      "      [\n",
      "        [\n",
      "          \"年龄：\"\n",
      "        ],\n",
      "        [\n",
      "          \"26\"\n",
      "        ],\n",
      "        [\n",
      "          \"26\"\n",
      "        ],\n",
      "        [\n",
      "          \"床    号：\"\n",
      "        ],\n",
      "        [\n",
      "          \"/\"\n",
      "        ]\n",
      "      ],\n",
      "      [\n",
      "        [\n",
      "          \"科别：\"\n",
      "        ],\n",
      "        [\n",
      "          \"门诊\"\n",
      "        ],\n",
      "        [\n",
      "          \"门诊\"\n",
      "        ],\n",
      "        [\n",
      "          \"门诊号/住院号：\"\n",
      "        ],\n",
      "        [\n",
      "          \"159135\"\n",
      "        ]\n",
      "      ]\n",
      "    ],\n",
      "    [\n",
      "      [\n",
      "        [\n",
      "          \"\"\n",
      "        ]\n",
      "      ]\n",
      "    ],\n",
      "    [\n",
      "      [\n",
      "        [\n",
      "          \"----media/image1.png----\"\n",
      "        ]\n",
      "      ],\n",
      "      [\n",
      "        [\n",
      "          \"病人情况/记录条件: \",\n",
      "          \"类        型：常规                配合情况： 合作       意识状态：清醒\",\n",
      "          \"电极安放标准：国际10-20系统      左 右 利： 右利       用    药：/\",\n",
      "          \"\\t检查结果：\\t\",\n",
      "          \"背景活动：清醒安静闭目时双侧枕区以9-10 Hz、30-50 uv的α波及节律为主，左右基本对称，调节、调幅尚可。\",\n",
      "          \"快波：少量，低波幅14-25Hzβ波。\",\n",
      "          \"慢波：少量，低中波幅4-7Hzθ波。\",\n",
      "          \"对称性：双侧基本对称。\",\n",
      "          \"异常波形：未见。\",\n",
      "          \"诱发实验：\",\n",
      "          \"睁闭眼：α波抑制完全。\",\n",
      "          \"过度换气：未见异常改变。\",\n",
      "          \"结论：大致正常脑电地形图                            \",\n",
      "          \"报告医师：\",\n",
      "          \"报告日期：2025年3月26日  \"\n",
      "        ]\n",
      "      ]\n",
      "    ],\n",
      "    [\n",
      "      [\n",
      "        [\n",
      "          \"\"\n",
      "        ]\n",
      "      ]\n",
      "    ]\n",
      "  ],\n",
      "  \"header\": [\n",
      "    [\n",
      "      []\n",
      "    ],\n",
      "    [\n",
      "      [\n",
      "        [\n",
      "          \"潍坊市精神卫生中心\",\n",
      "          \"脑电地形图报告单\"\n",
      "        ]\n",
      "      ]\n",
      "    ],\n",
      "    [\n",
      "      [\n",
      "        [\n",
      "          \"\"\n",
      "        ]\n",
      "      ]\n",
      "    ]\n",
      "  ],\n",
      "  \"footer\": [\n",
      "    [\n",
      "      [\n",
      "        [\n",
      "          \"（仅供临床参考，不作为诊断依据）\"\n",
      "        ]\n",
      "      ]\n",
      "    ]\n",
      "  ],\n",
      "  \"text\": \"潍坊市精神卫生中心\\n\\n脑电地形图报告单\\n\\n\\n\\n姓名：     \\n\\n姓名：     \\n\\n\\n\\n脑电图号：\\n\\n41913\\n\\n性别： \\n\\n女\\n\\n女\\n\\n检查日期：\\n\\n2025年3月26日\\n\\n年龄：\\n\\n26\\n\\n26\\n\\n床    号：\\n\\n/\\n\\n科别：\\n\\n门诊\\n\\n门诊\\n\\n门诊号/住院号：\\n\\n159135\\n\\n\\n\\n----media/image1.png----\\n\\n病人情况/记录条件: \\n\\n类        型：常规                配合情况： 合作       意识状态：清醒\\n\\n电极安放标准：国际10-20系统      左 右 利： 右利       用    药：/\\n\\n\\t检查结果：\\t\\n\\n背景活动：清醒安静闭目时双侧枕区以9-10 Hz、30-50 uv的α波及节律为主，左右基本对称，调节、调幅尚可。\\n\\n快波：少量，低波幅14-25Hzβ波。\\n\\n慢波：少量，低中波幅4-7Hzθ波。\\n\\n对称性：双侧基本对称。\\n\\n异常波形：未见。\\n\\n诱发实验：\\n\\n睁闭眼：α波抑制完全。\\n\\n过度换气：未见异常改变。\\n\\n结论：大致正常脑电地形图                            \\n\\n报告医师：\\n\\n报告日期：2025年3月26日  \\n\\n\\n\\n（仅供临床参考，不作为诊断依据）\"\n",
      "}\n"
     ]
    }
   ],
   "source": [
    "# 使用字典格式输出\n",
    "from docx2python import docx2python\n",
    "import json\n",
    "\n",
    "#doc = docx2python(\"example/test.doc\")\n",
    "doc = docx2python(\".output/_20231205_165237/_20231205_165237.doc\")\n",
    "\n",
    "# 手动构建字典\n",
    "data = {\n",
    "    \"body\": doc.body,\n",
    "    \"header\": doc.header,\n",
    "    \"footer\": doc.footer,\n",
    "    \"text\": doc.text  # 所有文本合并后的字符串\n",
    "}\n",
    "\n",
    "print(json.dumps(data, indent=2, ensure_ascii=False))\n"
   ]
  },
  {
   "cell_type": "code",
   "execution_count": 3,
   "id": "4e0cc20d",
   "metadata": {},
   "outputs": [
    {
     "ename": "",
     "evalue": "",
     "output_type": "error",
     "traceback": [
      "\u001b[1;31m在当前单元格或上一个单元格中执行代码时 Kernel 崩溃。\n",
      "\u001b[1;31m请查看单元格中的代码，以确定故障的可能原因。\n",
      "\u001b[1;31m单击<a href='https://aka.ms/vscodeJupyterKernelCrash'>此处</a>了解详细信息。\n",
      "\u001b[1;31m有关更多详细信息，请查看 Jupyter <a href='command:jupyter.viewOutput'>log</a>。"
     ]
    }
   ],
   "source": [
    "# aspose-words\n",
    "# pip install aspose-words  # 安装相应包\n",
    "import aspose.words as aw\n",
    "doc = aw.Document(\".output/_20231205_165237/_20231205_165237.doc\")\n",
    "print(doc.get_text())"
   ]
  },
  {
   "cell_type": "code",
   "execution_count": null,
   "id": "af83ebf9",
   "metadata": {},
   "outputs": [],
   "source": [
    "# 创建符号链接（假设你的路径是 /usr/lib/x86_64-linux-gnu/libssl.so.3）\n",
    "sudo ln -s /usr/lib/x86_64-linux-gnu/libssl.so.3 /usr/lib/libssl.so\n",
    "sudo ln -s /usr/lib/x86_64-linux-gnu/libcrypto.so.3 /usr/lib/libcrypto.so\n",
    "\n",
    "# 更新动态链接库缓存\n",
    "sudo ldconfig"
   ]
  },
  {
   "cell_type": "code",
   "execution_count": null,
   "id": "eea8e388",
   "metadata": {},
   "outputs": [],
   "source": [
    "/home/jackyge/code/git-learn/my-repo/backup/langchain_deepseek_json.py"
   ]
  }
 ],
 "metadata": {
  "kernelspec": {
   "display_name": "Python 3",
   "language": "python",
   "name": "python3"
  },
  "language_info": {
   "codemirror_mode": {
    "name": "ipython",
    "version": 3
   },
   "file_extension": ".py",
   "mimetype": "text/x-python",
   "name": "python",
   "nbconvert_exporter": "python",
   "pygments_lexer": "ipython3",
   "version": "3.10.16"
  }
 },
 "nbformat": 4,
 "nbformat_minor": 5
}
